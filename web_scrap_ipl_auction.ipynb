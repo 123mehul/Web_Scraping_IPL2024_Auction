{
 "cells": [
  {
   "cell_type": "code",
   "execution_count": 36,
   "metadata": {},
   "outputs": [
    {
     "name": "stdout",
     "output_type": "stream",
     "text": [
      "                          TEAM FUNDS REMAINING OVERSEAS PLAYERS TOTAL PLAYERS\n",
      "0          Chennai Super Kings    ₹1,00,00,000                8            25\n",
      "1               Delhi Capitals    ₹9,90,00,000                8            25\n",
      "2               Gujarat Titans    ₹7,85,00,000                8            25\n",
      "3        Kolkata Knight Riders    ₹1,35,00,000                8            23\n",
      "4         Lucknow Super Giants      ₹95,00,000                8            25\n",
      "5               Mumbai Indians    ₹1,05,00,000                8            25\n",
      "6                 Punjab Kings    ₹4,15,00,000                8            25\n",
      "7             Rajasthan Royals      ₹20,00,000                8            22\n",
      "8  Royal Challengers Bengaluru    ₹2,85,00,000                8            25\n",
      "9          Sunrisers Hyderabad    ₹3,20,00,000                8            25\n"
     ]
    }
   ],
   "source": [
    "import requests\n",
    "from bs4 import BeautifulSoup\n",
    "import pandas as pd\n",
    "\n",
    "url = \"https://www.iplt20.com/auction/2024\"\n",
    "r = requests.get(url)\n",
    "soup = BeautifulSoup(r.text, \"lxml\")\n",
    "\n",
    "\n",
    "table = soup.find_all(\"table\", class_=\"ih-td-tab auction-tbl\")[0]\n",
    "\n",
    "\n",
    "headers = table.find_all(\"th\")\n",
    "titles = [header.text.strip() for header in headers] \n",
    "\n",
    "\n",
    "df = pd.DataFrame(columns=titles)\n",
    "\n",
    "\n",
    "rows = table.find_all(\"tr\")\n",
    "for row in rows[1:]:  \n",
    "    data = row.find_all(\"td\")\n",
    "    row_data = [td.text.strip() for td in data]\n",
    "    df_length = len(df)  \n",
    "    df.loc[df_length] = row_data  \n",
    "\n",
    "print(df)\n",
    "\n",
    "df.to_csv(\"IPL_Auction_2024.csv\")\n"
   ]
  }
 ],
 "metadata": {
  "kernelspec": {
   "display_name": "base",
   "language": "python",
   "name": "python3"
  },
  "language_info": {
   "codemirror_mode": {
    "name": "ipython",
    "version": 3
   },
   "file_extension": ".py",
   "mimetype": "text/x-python",
   "name": "python",
   "nbconvert_exporter": "python",
   "pygments_lexer": "ipython3",
   "version": "3.12.4"
  }
 },
 "nbformat": 4,
 "nbformat_minor": 2
}
